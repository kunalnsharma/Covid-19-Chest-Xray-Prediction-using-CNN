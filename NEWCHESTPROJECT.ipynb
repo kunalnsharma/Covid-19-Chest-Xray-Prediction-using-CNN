{
  "nbformat": 4,
  "nbformat_minor": 0,
  "metadata": {
    "colab": {
      "provenance": []
    },
    "kernelspec": {
      "name": "python3",
      "display_name": "Python 3"
    },
    "language_info": {
      "name": "python"
    }
  },
  "cells": [
    {
      "cell_type": "code",
      "execution_count": 8,
      "metadata": {
        "id": "5u9RvgUvPFXL"
      },
      "outputs": [],
      "source": [
        "import os\n",
        "import tensorflow\n",
        "from tensorflow import keras\n",
        "os.environ['KAGGLE_USERNAME'] = 'kunalsharma2134'\n",
        "os.environ['KAGGLE_KEY'] = 'a77eccce7ddef0344fa91bee50cba74d'"
      ]
    },
    {
      "cell_type": "code",
      "source": [
        "!kaggle datasets download khoongweihao/covid19-xray-dataset-train-test-sets"
      ],
      "metadata": {
        "colab": {
          "base_uri": "https://localhost:8080/"
        },
        "id": "EllCtHjbPi_F",
        "outputId": "f9a09e9a-92a7-4d0a-f403-b03a57f93e90"
      },
      "execution_count": 2,
      "outputs": [
        {
          "output_type": "stream",
          "name": "stdout",
          "text": [
            "Warning: Looks like you're using an outdated API Version, please consider updating (server 1.7.4.2 / client 1.6.17)\n",
            "Dataset URL: https://www.kaggle.com/datasets/khoongweihao/covid19-xray-dataset-train-test-sets\n",
            "License(s): CC0-1.0\n",
            "Downloading covid19-xray-dataset-train-test-sets.zip to /content\n",
            " 75% 63.0M/84.3M [00:00<00:00, 99.1MB/s]\n",
            "100% 84.3M/84.3M [00:00<00:00, 105MB/s] \n"
          ]
        }
      ]
    },
    {
      "cell_type": "code",
      "source": [
        "!unzip /content/covid19-xray-dataset-train-test-sets.zip"
      ],
      "metadata": {
        "colab": {
          "base_uri": "https://localhost:8080/"
        },
        "id": "HXO-d9KqPqKI",
        "outputId": "210d2d63-b0b7-47bb-942e-3ea3d78d11a6"
      },
      "execution_count": 3,
      "outputs": [
        {
          "output_type": "stream",
          "name": "stdout",
          "text": [
            "Archive:  /content/covid19-xray-dataset-train-test-sets.zip\n",
            "  inflating: xray_dataset_covid19/test/NORMAL/NORMAL2-IM-0035-0001.jpeg  \n",
            "  inflating: xray_dataset_covid19/test/NORMAL/NORMAL2-IM-0052-0001.jpeg  \n",
            "  inflating: xray_dataset_covid19/test/NORMAL/NORMAL2-IM-0058-0001.jpeg  \n",
            "  inflating: xray_dataset_covid19/test/NORMAL/NORMAL2-IM-0059-0001.jpeg  \n",
            "  inflating: xray_dataset_covid19/test/NORMAL/NORMAL2-IM-0072-0001.jpeg  \n",
            "  inflating: xray_dataset_covid19/test/NORMAL/NORMAL2-IM-0073-0001.jpeg  \n",
            "  inflating: xray_dataset_covid19/test/NORMAL/NORMAL2-IM-0092-0001.jpeg  \n",
            "  inflating: xray_dataset_covid19/test/NORMAL/NORMAL2-IM-0105-0001.jpeg  \n",
            "  inflating: xray_dataset_covid19/test/NORMAL/NORMAL2-IM-0110-0001.jpeg  \n",
            "  inflating: xray_dataset_covid19/test/NORMAL/NORMAL2-IM-0111-0001.jpeg  \n",
            "  inflating: xray_dataset_covid19/test/NORMAL/NORMAL2-IM-0112-0001.jpeg  \n",
            "  inflating: xray_dataset_covid19/test/NORMAL/NORMAL2-IM-0117-0001.jpeg  \n",
            "  inflating: xray_dataset_covid19/test/NORMAL/NORMAL2-IM-0120-0001.jpeg  \n",
            "  inflating: xray_dataset_covid19/test/NORMAL/NORMAL2-IM-0123-0001.jpeg  \n",
            "  inflating: xray_dataset_covid19/test/NORMAL/NORMAL2-IM-0130-0001.jpeg  \n",
            "  inflating: xray_dataset_covid19/test/NORMAL/NORMAL2-IM-0131-0001.jpeg  \n",
            "  inflating: xray_dataset_covid19/test/NORMAL/NORMAL2-IM-0132-0001.jpeg  \n",
            "  inflating: xray_dataset_covid19/test/NORMAL/NORMAL2-IM-0139-0001.jpeg  \n",
            "  inflating: xray_dataset_covid19/test/NORMAL/NORMAL2-IM-0145-0001.jpeg  \n",
            "  inflating: xray_dataset_covid19/test/NORMAL/NORMAL2-IM-0171-0001.jpeg  \n",
            "  inflating: xray_dataset_covid19/test/PNEUMONIA/SARS-10.1148rg.242035193-g04mr34g0-Fig8a-day0.jpeg  \n",
            "  inflating: xray_dataset_covid19/test/PNEUMONIA/SARS-10.1148rg.242035193-g04mr34g0-Fig8b-day5.jpeg  \n",
            "  inflating: xray_dataset_covid19/test/PNEUMONIA/SARS-10.1148rg.242035193-g04mr34g0-Fig8c-day10.jpeg  \n",
            "  inflating: xray_dataset_covid19/test/PNEUMONIA/SARS-10.1148rg.242035193-g04mr34g04a-Fig4a-day7.jpeg  \n",
            "  inflating: xray_dataset_covid19/test/PNEUMONIA/SARS-10.1148rg.242035193-g04mr34g04b-Fig4b-day12.jpeg  \n",
            "  inflating: xray_dataset_covid19/test/PNEUMONIA/SARS-10.1148rg.242035193-g04mr34g05x-Fig5-day9.jpeg  \n",
            "  inflating: xray_dataset_covid19/test/PNEUMONIA/SARS-10.1148rg.242035193-g04mr34g07a-Fig7a-day5.jpeg  \n",
            "  inflating: xray_dataset_covid19/test/PNEUMONIA/SARS-10.1148rg.242035193-g04mr34g07b-Fig7b-day12.jpeg  \n",
            "  inflating: xray_dataset_covid19/test/PNEUMONIA/SARS-10.1148rg.242035193-g04mr34g09a-Fig9a-day17.jpeg  \n",
            "  inflating: xray_dataset_covid19/test/PNEUMONIA/SARS-10.1148rg.242035193-g04mr34g09b-Fig9b-day19.jpeg  \n",
            "  inflating: xray_dataset_covid19/test/PNEUMONIA/SARS-10.1148rg.242035193-g04mr34g09c-Fig9c-day27.jpeg  \n",
            "  inflating: xray_dataset_covid19/test/PNEUMONIA/ryct.2020200034.fig2.jpeg  \n",
            "  inflating: xray_dataset_covid19/test/PNEUMONIA/ryct.2020200034.fig5-day0.jpeg  \n",
            "  inflating: xray_dataset_covid19/test/PNEUMONIA/ryct.2020200034.fig5-day4.jpeg  \n",
            "  inflating: xray_dataset_covid19/test/PNEUMONIA/ryct.2020200034.fig5-day7.jpeg  \n",
            "  inflating: xray_dataset_covid19/test/PNEUMONIA/streptococcus-pneumoniae-pneumonia-1.jpg  \n",
            "  inflating: xray_dataset_covid19/test/PNEUMONIA/streptococcus-pneumoniae-pneumonia-temporal-evolution-1-day0.jpg  \n",
            "  inflating: xray_dataset_covid19/test/PNEUMONIA/streptococcus-pneumoniae-pneumonia-temporal-evolution-1-day1.jpg  \n",
            "  inflating: xray_dataset_covid19/test/PNEUMONIA/streptococcus-pneumoniae-pneumonia-temporal-evolution-1-day2.jpg  \n",
            "  inflating: xray_dataset_covid19/test/PNEUMONIA/streptococcus-pneumoniae-pneumonia-temporal-evolution-1-day3.jpg  \n",
            "  inflating: xray_dataset_covid19/train/NORMAL/IM-0001-0001.jpeg  \n",
            "  inflating: xray_dataset_covid19/train/NORMAL/IM-0003-0001.jpeg  \n",
            "  inflating: xray_dataset_covid19/train/NORMAL/IM-0005-0001.jpeg  \n",
            "  inflating: xray_dataset_covid19/train/NORMAL/IM-0006-0001.jpeg  \n",
            "  inflating: xray_dataset_covid19/train/NORMAL/IM-0007-0001.jpeg  \n",
            "  inflating: xray_dataset_covid19/train/NORMAL/IM-0009-0001.jpeg  \n",
            "  inflating: xray_dataset_covid19/train/NORMAL/IM-0010-0001.jpeg  \n",
            "  inflating: xray_dataset_covid19/train/NORMAL/IM-0011-0001-0001.jpeg  \n",
            "  inflating: xray_dataset_covid19/train/NORMAL/IM-0011-0001-0002.jpeg  \n",
            "  inflating: xray_dataset_covid19/train/NORMAL/IM-0011-0001.jpeg  \n",
            "  inflating: xray_dataset_covid19/train/NORMAL/IM-0013-0001.jpeg  \n",
            "  inflating: xray_dataset_covid19/train/NORMAL/IM-0015-0001.jpeg  \n",
            "  inflating: xray_dataset_covid19/train/NORMAL/IM-0016-0001.jpeg  \n",
            "  inflating: xray_dataset_covid19/train/NORMAL/IM-0017-0001.jpeg  \n",
            "  inflating: xray_dataset_covid19/train/NORMAL/IM-0019-0001.jpeg  \n",
            "  inflating: xray_dataset_covid19/train/NORMAL/IM-0021-0001.jpeg  \n",
            "  inflating: xray_dataset_covid19/train/NORMAL/IM-0022-0001.jpeg  \n",
            "  inflating: xray_dataset_covid19/train/NORMAL/IM-0023-0001.jpeg  \n",
            "  inflating: xray_dataset_covid19/train/NORMAL/IM-0025-0001.jpeg  \n",
            "  inflating: xray_dataset_covid19/train/NORMAL/IM-0027-0001.jpeg  \n",
            "  inflating: xray_dataset_covid19/train/NORMAL/IM-0029-0001.jpeg  \n",
            "  inflating: xray_dataset_covid19/train/NORMAL/IM-0030-0001.jpeg  \n",
            "  inflating: xray_dataset_covid19/train/NORMAL/IM-0031-0001.jpeg  \n",
            "  inflating: xray_dataset_covid19/train/NORMAL/IM-0033-0001-0001.jpeg  \n",
            "  inflating: xray_dataset_covid19/train/NORMAL/IM-0033-0001-0002.jpeg  \n",
            "  inflating: xray_dataset_covid19/train/NORMAL/IM-0033-0001.jpeg  \n",
            "  inflating: xray_dataset_covid19/train/NORMAL/IM-0035-0001.jpeg  \n",
            "  inflating: xray_dataset_covid19/train/NORMAL/IM-0036-0001.jpeg  \n",
            "  inflating: xray_dataset_covid19/train/NORMAL/IM-0037-0001.jpeg  \n",
            "  inflating: xray_dataset_covid19/train/NORMAL/IM-0039-0001.jpeg  \n",
            "  inflating: xray_dataset_covid19/train/NORMAL/IM-0041-0001.jpeg  \n",
            "  inflating: xray_dataset_covid19/train/NORMAL/IM-0043-0001.jpeg  \n",
            "  inflating: xray_dataset_covid19/train/NORMAL/IM-0045-0001.jpeg  \n",
            "  inflating: xray_dataset_covid19/train/NORMAL/IM-0046-0001.jpeg  \n",
            "  inflating: xray_dataset_covid19/train/NORMAL/IM-0049-0001.jpeg  \n",
            "  inflating: xray_dataset_covid19/train/NORMAL/IM-0050-0001.jpeg  \n",
            "  inflating: xray_dataset_covid19/train/NORMAL/IM-0059-0001.jpeg  \n",
            "  inflating: xray_dataset_covid19/train/NORMAL/IM-0061-0001.jpeg  \n",
            "  inflating: xray_dataset_covid19/train/NORMAL/IM-0063-0001.jpeg  \n",
            "  inflating: xray_dataset_covid19/train/NORMAL/IM-0069-0001.jpeg  \n",
            "  inflating: xray_dataset_covid19/train/NORMAL/IM-0070-0001.jpeg  \n",
            "  inflating: xray_dataset_covid19/train/NORMAL/IM-0071-0001.jpeg  \n",
            "  inflating: xray_dataset_covid19/train/NORMAL/IM-0073-0001.jpeg  \n",
            "  inflating: xray_dataset_covid19/train/NORMAL/IM-0075-0001.jpeg  \n",
            "  inflating: xray_dataset_covid19/train/NORMAL/IM-0077-0001.jpeg  \n",
            "  inflating: xray_dataset_covid19/train/NORMAL/IM-0079-0001.jpeg  \n",
            "  inflating: xray_dataset_covid19/train/NORMAL/IM-0081-0001.jpeg  \n",
            "  inflating: xray_dataset_covid19/train/NORMAL/IM-0083-0001.jpeg  \n",
            "  inflating: xray_dataset_covid19/train/NORMAL/IM-0084-0001.jpeg  \n",
            "  inflating: xray_dataset_covid19/train/NORMAL/IM-0085-0001.jpeg  \n",
            "  inflating: xray_dataset_covid19/train/NORMAL/IM-0086-0001.jpeg  \n",
            "  inflating: xray_dataset_covid19/train/NORMAL/IM-0087-0001.jpeg  \n",
            "  inflating: xray_dataset_covid19/train/NORMAL/IM-0089-0001.jpeg  \n",
            "  inflating: xray_dataset_covid19/train/NORMAL/IM-0091-0001.jpeg  \n",
            "  inflating: xray_dataset_covid19/train/NORMAL/IM-0093-0001.jpeg  \n",
            "  inflating: xray_dataset_covid19/train/NORMAL/IM-0095-0001.jpeg  \n",
            "  inflating: xray_dataset_covid19/train/NORMAL/IM-0097-0001.jpeg  \n",
            "  inflating: xray_dataset_covid19/train/NORMAL/IM-0099-0001.jpeg  \n",
            "  inflating: xray_dataset_covid19/train/NORMAL/IM-0101-0001.jpeg  \n",
            "  inflating: xray_dataset_covid19/train/NORMAL/IM-0102-0001.jpeg  \n",
            "  inflating: xray_dataset_covid19/train/NORMAL/IM-0103-0001.jpeg  \n",
            "  inflating: xray_dataset_covid19/train/NORMAL/IM-0105-0001.jpeg  \n",
            "  inflating: xray_dataset_covid19/train/NORMAL/IM-0107-0001.jpeg  \n",
            "  inflating: xray_dataset_covid19/train/NORMAL/IM-0110-0001.jpeg  \n",
            "  inflating: xray_dataset_covid19/train/NORMAL/IM-0111-0001.jpeg  \n",
            "  inflating: xray_dataset_covid19/train/NORMAL/NORMAL2-IM-0007-0001.jpeg  \n",
            "  inflating: xray_dataset_covid19/train/NORMAL/NORMAL2-IM-0012-0001.jpeg  \n",
            "  inflating: xray_dataset_covid19/train/NORMAL/NORMAL2-IM-0013-0001.jpeg  \n",
            "  inflating: xray_dataset_covid19/train/NORMAL/NORMAL2-IM-0023-0001.jpeg  \n",
            "  inflating: xray_dataset_covid19/train/NORMAL/NORMAL2-IM-0027-0001.jpeg  \n",
            "  inflating: xray_dataset_covid19/train/NORMAL/NORMAL2-IM-0028-0001.jpeg  \n",
            "  inflating: xray_dataset_covid19/train/NORMAL/NORMAL2-IM-0029-0001.jpeg  \n",
            "  inflating: xray_dataset_covid19/train/NORMAL/NORMAL2-IM-0030-0001.jpeg  \n",
            "  inflating: xray_dataset_covid19/train/NORMAL/NORMAL2-IM-0033-0001.jpeg  \n",
            "  inflating: xray_dataset_covid19/train/PNEUMONIA/01E392EE-69F9-4E33-BFCE-E5C968654078.jpeg  \n",
            "  inflating: xray_dataset_covid19/train/PNEUMONIA/1-s2.0-S0140673620303706-fx1_lrg.jpg  \n",
            "  inflating: xray_dataset_covid19/train/PNEUMONIA/1-s2.0-S1684118220300608-main.pdf-001.jpg  \n",
            "  inflating: xray_dataset_covid19/train/PNEUMONIA/1-s2.0-S1684118220300608-main.pdf-002.jpg  \n",
            "  inflating: xray_dataset_covid19/train/PNEUMONIA/1-s2.0-S1684118220300682-main.pdf-002-a1.png  \n",
            "  inflating: xray_dataset_covid19/train/PNEUMONIA/1-s2.0-S1684118220300682-main.pdf-002-a2.png  \n",
            "  inflating: xray_dataset_covid19/train/PNEUMONIA/1-s2.0-S1684118220300682-main.pdf-003-b1.png  \n",
            "  inflating: xray_dataset_covid19/train/PNEUMONIA/1-s2.0-S1684118220300682-main.pdf-003-b2.png  \n",
            "  inflating: xray_dataset_covid19/train/PNEUMONIA/1312A392-67A3-4EBF-9319-810CF6DA5EF6.jpeg  \n",
            "  inflating: xray_dataset_covid19/train/PNEUMONIA/171CB377-62FF-4B76-906C-F3787A01CB2E.jpeg  \n",
            "  inflating: xray_dataset_covid19/train/PNEUMONIA/1B734A89-A1BF-49A8-A1D3-66FAFA4FAC5D.jpeg  \n",
            "  inflating: xray_dataset_covid19/train/PNEUMONIA/23E99E2E-447C-46E5-8EB2-D35D12473C39.png  \n",
            "  inflating: xray_dataset_covid19/train/PNEUMONIA/2C10A413-AABE-4807-8CCE-6A2025594067.jpeg  \n",
            "  inflating: xray_dataset_covid19/train/PNEUMONIA/2C26F453-AF3B-4517-BB9E-802CF2179543.jpeg  \n",
            "  inflating: xray_dataset_covid19/train/PNEUMONIA/31BA3780-2323-493F-8AED-62081B9C383B.jpeg  \n",
            "  inflating: xray_dataset_covid19/train/PNEUMONIA/39EE8E69-5801-48DE-B6E3-BE7D1BCF3092.jpeg  \n",
            "  inflating: xray_dataset_covid19/train/PNEUMONIA/41591_2020_819_Fig1_HTML.webp-day10.png  \n",
            "  inflating: xray_dataset_covid19/train/PNEUMONIA/41591_2020_819_Fig1_HTML.webp-day5.png  \n",
            "  inflating: xray_dataset_covid19/train/PNEUMONIA/446B2CB6-B572-40AB-B01F-1910CA07086A.jpeg  \n",
            "  inflating: xray_dataset_covid19/train/PNEUMONIA/5931B64A-7B97-485D-BE60-3F1EA76BC4F0.jpeg  \n",
            "  inflating: xray_dataset_covid19/train/PNEUMONIA/5CBC2E94-D358-401E-8928-965CCD965C5C.jpeg  \n",
            "  inflating: xray_dataset_covid19/train/PNEUMONIA/5e6dd879fde9502400e58b2f.jpeg  \n",
            "  inflating: xray_dataset_covid19/train/PNEUMONIA/6CB4EFC6-68FA-4CD5-940C-BEFA8DAFE9A7.jpeg  \n",
            "  inflating: xray_dataset_covid19/train/PNEUMONIA/7AF6C1AF-D249-4BD2-8C26-449304105D03.jpeg  \n",
            "  inflating: xray_dataset_covid19/train/PNEUMONIA/7C69C012-7479-493F-8722-ABC29C60A2DD.jpeg  \n",
            "  inflating: xray_dataset_covid19/train/PNEUMONIA/7D2CF6CE-F529-4470-8356-D33FFAF98600.jpeg  \n",
            "  inflating: xray_dataset_covid19/train/PNEUMONIA/7E335538-2F86-424E-A0AB-6397783A38D0.jpeg  \n",
            "  inflating: xray_dataset_covid19/train/PNEUMONIA/7EF28E12-F628-4BEC-A8C5-E6277C2E4F60.png  \n",
            "  inflating: xray_dataset_covid19/train/PNEUMONIA/80446565-E090-4187-A031-9D3CEAA586C8.jpeg  \n",
            "  inflating: xray_dataset_covid19/train/PNEUMONIA/85E52EB3-56E9-4D67-82DA-DEA247C82886.jpeg  \n",
            "  inflating: xray_dataset_covid19/train/PNEUMONIA/8FDE8DBA-CFBD-4B4C-B1A4-6F36A93B7E87.jpeg  \n",
            "  inflating: xray_dataset_covid19/train/PNEUMONIA/93FE0BB1-022D-4F24-9727-987A07975FFB.jpeg  \n",
            "  inflating: xray_dataset_covid19/train/PNEUMONIA/9C34AF49-E589-44D5-92D3-168B3B04E4A6.jpeg  \n",
            "  inflating: xray_dataset_covid19/train/PNEUMONIA/ARDSSevere.png  \n",
            "  inflating: xray_dataset_covid19/train/PNEUMONIA/B59DD164-51D5-40DF-A926-6A42DD52EBE8.jpeg  \n",
            "  inflating: xray_dataset_covid19/train/PNEUMONIA/C6EA0BE5-B01E-4113-B194-18D956675E25.jpeg  \n",
            "  inflating: xray_dataset_covid19/train/PNEUMONIA/CD50BA96-6982-4C80-AE7B-5F67ACDBFA56.jpeg  \n",
            "  inflating: xray_dataset_covid19/train/PNEUMONIA/E1724330-1866-4581-8CD8-CEC9B8AFEDDE.jpeg  \n",
            "  inflating: xray_dataset_covid19/train/PNEUMONIA/E63574A7-4188-4C8D-8D17-9D67A18A1AFA.jpeg  \n",
            "  inflating: xray_dataset_covid19/train/PNEUMONIA/F051E018-DAD1-4506-AD43-BE4CA29E960B.jpeg  \n",
            "  inflating: xray_dataset_covid19/train/PNEUMONIA/F4341CE7-73C9-45C6-99C8-8567A5484B63.jpeg  \n",
            "  inflating: xray_dataset_covid19/train/PNEUMONIA/F63AB6CE-1968-4154-A70F-913AF154F53D.jpeg  \n",
            "  inflating: xray_dataset_covid19/train/PNEUMONIA/MERS-CoV-1-s2.0-S0378603X1500248X-gr4e.jpg  \n",
            "  inflating: xray_dataset_covid19/train/PNEUMONIA/acute-respiratory-distress-syndrome-ards-1.jpg  \n",
            "  inflating: xray_dataset_covid19/train/PNEUMONIA/all14238-fig-0001-m-b.jpg  \n",
            "  inflating: xray_dataset_covid19/train/PNEUMONIA/all14238-fig-0001-m-c.jpg  \n",
            "  inflating: xray_dataset_covid19/train/PNEUMONIA/all14238-fig-0002-m-e.jpg  \n",
            "  inflating: xray_dataset_covid19/train/PNEUMONIA/ards-secondary-to-tiger-snake-bite.png  \n",
            "  inflating: xray_dataset_covid19/train/PNEUMONIA/auntminnie-2020_01_31_20_24_2322_2020_01_31_x-ray_coronavirus_US.jpg  \n",
            "  inflating: xray_dataset_covid19/train/PNEUMONIA/auntminnie-b-2020_01_28_23_51_6665_2020_01_28_Vietnam_coronavirus.jpeg  \n",
            "  inflating: xray_dataset_covid19/train/PNEUMONIA/auntminnie-c-2020_01_28_23_51_6665_2020_01_28_Vietnam_coronavirus.jpeg  \n",
            "  inflating: xray_dataset_covid19/train/PNEUMONIA/auntminnie-d-2020_01_28_23_51_6665_2020_01_28_Vietnam_coronavirus.jpeg  \n",
            "  inflating: xray_dataset_covid19/train/PNEUMONIA/covid-19-pneumonia-12.jpg  \n",
            "  inflating: xray_dataset_covid19/train/PNEUMONIA/covid-19-pneumonia-14-PA.png  \n",
            "  inflating: xray_dataset_covid19/train/PNEUMONIA/covid-19-pneumonia-15-PA.jpg  \n",
            "  inflating: xray_dataset_covid19/train/PNEUMONIA/covid-19-pneumonia-7-PA.jpg  \n",
            "  inflating: xray_dataset_covid19/train/PNEUMONIA/jkms-35-e79-g001-l-a.jpg  \n",
            "  inflating: xray_dataset_covid19/train/PNEUMONIA/jkms-35-e79-g001-l-b.jpg  \n",
            "  inflating: xray_dataset_covid19/train/PNEUMONIA/jkms-35-e79-g001-l-c.jpg  \n",
            "  inflating: xray_dataset_covid19/train/PNEUMONIA/kjr-21-e24-g001-l-a.jpg  \n",
            "  inflating: xray_dataset_covid19/train/PNEUMONIA/kjr-21-e24-g002-l-a.jpg  \n",
            "  inflating: xray_dataset_covid19/train/PNEUMONIA/kjr-21-e24-g003-l-a.jpg  \n",
            "  inflating: xray_dataset_covid19/train/PNEUMONIA/kjr-21-e25-g001-l-a.jpg  \n",
            "  inflating: xray_dataset_covid19/train/PNEUMONIA/lancet-case2a.jpg  \n",
            "  inflating: xray_dataset_covid19/train/PNEUMONIA/nCoV-Snohomish-20382862_web1_M1-Lungs-EDH-200201-640x300@2x.jpg  \n",
            "  inflating: xray_dataset_covid19/train/PNEUMONIA/nCoV-radiol.2020200269.fig1-day7.jpeg  \n",
            "  inflating: xray_dataset_covid19/train/PNEUMONIA/nejmc2001573_f1a.jpeg  \n",
            "  inflating: xray_dataset_covid19/train/PNEUMONIA/nejmc2001573_f1b.jpeg  \n",
            "  inflating: xray_dataset_covid19/train/PNEUMONIA/nejmoa2001191_f1-PA.jpeg  \n",
            "  inflating: xray_dataset_covid19/train/PNEUMONIA/nejmoa2001191_f3-PA.jpeg  \n",
            "  inflating: xray_dataset_covid19/train/PNEUMONIA/nejmoa2001191_f4.jpeg  \n",
            "  inflating: xray_dataset_covid19/train/PNEUMONIA/nejmoa2001191_f5-PA.jpeg  \n",
            "  inflating: xray_dataset_covid19/train/PNEUMONIA/pneumocystis-pneumonia-2-PA.png  \n",
            "  inflating: xray_dataset_covid19/train/PNEUMONIA/ryct.2020200028.fig1a.jpeg  \n"
          ]
        }
      ]
    },
    {
      "cell_type": "code",
      "source": [
        "import os"
      ],
      "metadata": {
        "id": "a-uVa7qyPxK6"
      },
      "execution_count": 4,
      "outputs": []
    },
    {
      "cell_type": "code",
      "source": [
        "len(os.listdir('/content/xray_dataset_covid19/train/NORMAL'))"
      ],
      "metadata": {
        "colab": {
          "base_uri": "https://localhost:8080/"
        },
        "id": "bKU__NKiP8Ex",
        "outputId": "5a66277a-e56c-45d5-e728-c785c0309d1e"
      },
      "execution_count": 5,
      "outputs": [
        {
          "output_type": "execute_result",
          "data": {
            "text/plain": [
              "74"
            ]
          },
          "metadata": {},
          "execution_count": 5
        }
      ]
    },
    {
      "cell_type": "code",
      "source": [
        "len(os.listdir('/content/xray_dataset_covid19/train/PNEUMONIA'))"
      ],
      "metadata": {
        "colab": {
          "base_uri": "https://localhost:8080/"
        },
        "id": "NuD5li8PQCVy",
        "outputId": "113cc6fb-58fd-4bca-803a-9261c2154372"
      },
      "execution_count": 6,
      "outputs": [
        {
          "output_type": "execute_result",
          "data": {
            "text/plain": [
              "74"
            ]
          },
          "metadata": {},
          "execution_count": 6
        }
      ]
    },
    {
      "cell_type": "code",
      "source": [
        "train_dir = \"/content/xray_dataset_covid19/train\"\n",
        "test_dir = \"/content/xray_dataset_covid19/test\""
      ],
      "metadata": {
        "id": "skCBScrNQJWh"
      },
      "execution_count": 10,
      "outputs": []
    },
    {
      "cell_type": "code",
      "source": [
        "# Load dataset using ImageDataGenerator\n",
        "train_datagen = keras.preprocessing.image.ImageDataGenerator(rescale=1./255)\n",
        "test_datagen = keras.preprocessing.image.ImageDataGenerator(rescale=1./255)\n",
        "\n",
        "train_generator = train_datagen.flow_from_directory(\n",
        "    train_dir,\n",
        "    target_size=(200,200),\n",
        "    batch_size=32,\n",
        "    class_mode='binary'\n",
        ")\n",
        "\n",
        "test_generator = test_datagen.flow_from_directory(\n",
        "    test_dir,\n",
        "    target_size=(200,200),\n",
        "    batch_size=32,\n",
        "    class_mode='binary'\n",
        ")"
      ],
      "metadata": {
        "colab": {
          "base_uri": "https://localhost:8080/"
        },
        "id": "HJxwBCSJt3H6",
        "outputId": "37946c8a-cc71-4d52-9490-84faba040321"
      },
      "execution_count": 11,
      "outputs": [
        {
          "output_type": "stream",
          "name": "stdout",
          "text": [
            "Found 148 images belonging to 2 classes.\n",
            "Found 40 images belonging to 2 classes.\n"
          ]
        }
      ]
    },
    {
      "cell_type": "code",
      "source": [
        "from keras import Sequential\n",
        "from tensorflow.keras import layers\n",
        "from keras.layers import Dense,Conv2D,MaxPooling2D,Flatten,Dropout"
      ],
      "metadata": {
        "id": "xmNYkaIaub1G"
      },
      "execution_count": 16,
      "outputs": []
    },
    {
      "cell_type": "code",
      "source": [
        "model = Sequential()"
      ],
      "metadata": {
        "id": "MQbl66mWuvEs"
      },
      "execution_count": 20,
      "outputs": []
    },
    {
      "cell_type": "code",
      "source": [
        "model.add(Conv2D(32,kernel_size=(3,3),activation='relu',padding='same',input_shape=(200,200,3)))\n",
        "model.add(MaxPooling2D(pool_size=(2,2)))\n",
        "\n",
        "model.add(Conv2D(64,kernel_size=(3,3),activation='relu',padding='same'))\n",
        "model.add(MaxPooling2D(pool_size=(2,2)))\n",
        "\n",
        "model.add(Conv2D(128,kernel_size=(3,3),activation='relu',padding='same'))\n",
        "model.add(MaxPooling2D(pool_size=(2,2)))\n",
        "\n",
        "model.add(Flatten())\n",
        "\n",
        "model.add(Dense(512,activation='relu'))\n",
        "model.add(Dropout(0.3))\n",
        "model.add(Dense(1,activation='sigmoid'))"
      ],
      "metadata": {
        "id": "5suuaWh3uxKO"
      },
      "execution_count": 21,
      "outputs": []
    },
    {
      "cell_type": "code",
      "source": [
        "model.summary()"
      ],
      "metadata": {
        "colab": {
          "base_uri": "https://localhost:8080/",
          "height": 463
        },
        "id": "x91-SuF4va2c",
        "outputId": "71515191-c6aa-4384-f564-eb4a217567e5"
      },
      "execution_count": 22,
      "outputs": [
        {
          "output_type": "display_data",
          "data": {
            "text/plain": [
              "\u001b[1mModel: \"sequential_2\"\u001b[0m\n"
            ],
            "text/html": [
              "<pre style=\"white-space:pre;overflow-x:auto;line-height:normal;font-family:Menlo,'DejaVu Sans Mono',consolas,'Courier New',monospace\"><span style=\"font-weight: bold\">Model: \"sequential_2\"</span>\n",
              "</pre>\n"
            ]
          },
          "metadata": {}
        },
        {
          "output_type": "display_data",
          "data": {
            "text/plain": [
              "┏━━━━━━━━━━━━━━━━━━━━━━━━━━━━━━━━━━━━━━┳━━━━━━━━━━━━━━━━━━━━━━━━━━━━━┳━━━━━━━━━━━━━━━━━┓\n",
              "┃\u001b[1m \u001b[0m\u001b[1mLayer (type)                        \u001b[0m\u001b[1m \u001b[0m┃\u001b[1m \u001b[0m\u001b[1mOutput Shape               \u001b[0m\u001b[1m \u001b[0m┃\u001b[1m \u001b[0m\u001b[1m        Param #\u001b[0m\u001b[1m \u001b[0m┃\n",
              "┡━━━━━━━━━━━━━━━━━━━━━━━━━━━━━━━━━━━━━━╇━━━━━━━━━━━━━━━━━━━━━━━━━━━━━╇━━━━━━━━━━━━━━━━━┩\n",
              "│ conv2d_4 (\u001b[38;5;33mConv2D\u001b[0m)                    │ (\u001b[38;5;45mNone\u001b[0m, \u001b[38;5;34m200\u001b[0m, \u001b[38;5;34m200\u001b[0m, \u001b[38;5;34m32\u001b[0m)        │             \u001b[38;5;34m896\u001b[0m │\n",
              "├──────────────────────────────────────┼─────────────────────────────┼─────────────────┤\n",
              "│ max_pooling2d_3 (\u001b[38;5;33mMaxPooling2D\u001b[0m)       │ (\u001b[38;5;45mNone\u001b[0m, \u001b[38;5;34m100\u001b[0m, \u001b[38;5;34m100\u001b[0m, \u001b[38;5;34m32\u001b[0m)        │               \u001b[38;5;34m0\u001b[0m │\n",
              "├──────────────────────────────────────┼─────────────────────────────┼─────────────────┤\n",
              "│ conv2d_5 (\u001b[38;5;33mConv2D\u001b[0m)                    │ (\u001b[38;5;45mNone\u001b[0m, \u001b[38;5;34m100\u001b[0m, \u001b[38;5;34m100\u001b[0m, \u001b[38;5;34m64\u001b[0m)        │          \u001b[38;5;34m18,496\u001b[0m │\n",
              "├──────────────────────────────────────┼─────────────────────────────┼─────────────────┤\n",
              "│ max_pooling2d_4 (\u001b[38;5;33mMaxPooling2D\u001b[0m)       │ (\u001b[38;5;45mNone\u001b[0m, \u001b[38;5;34m50\u001b[0m, \u001b[38;5;34m50\u001b[0m, \u001b[38;5;34m64\u001b[0m)          │               \u001b[38;5;34m0\u001b[0m │\n",
              "├──────────────────────────────────────┼─────────────────────────────┼─────────────────┤\n",
              "│ conv2d_6 (\u001b[38;5;33mConv2D\u001b[0m)                    │ (\u001b[38;5;45mNone\u001b[0m, \u001b[38;5;34m50\u001b[0m, \u001b[38;5;34m50\u001b[0m, \u001b[38;5;34m128\u001b[0m)         │          \u001b[38;5;34m73,856\u001b[0m │\n",
              "├──────────────────────────────────────┼─────────────────────────────┼─────────────────┤\n",
              "│ max_pooling2d_5 (\u001b[38;5;33mMaxPooling2D\u001b[0m)       │ (\u001b[38;5;45mNone\u001b[0m, \u001b[38;5;34m25\u001b[0m, \u001b[38;5;34m25\u001b[0m, \u001b[38;5;34m128\u001b[0m)         │               \u001b[38;5;34m0\u001b[0m │\n",
              "├──────────────────────────────────────┼─────────────────────────────┼─────────────────┤\n",
              "│ flatten_1 (\u001b[38;5;33mFlatten\u001b[0m)                  │ (\u001b[38;5;45mNone\u001b[0m, \u001b[38;5;34m80000\u001b[0m)               │               \u001b[38;5;34m0\u001b[0m │\n",
              "├──────────────────────────────────────┼─────────────────────────────┼─────────────────┤\n",
              "│ dense_1 (\u001b[38;5;33mDense\u001b[0m)                      │ (\u001b[38;5;45mNone\u001b[0m, \u001b[38;5;34m512\u001b[0m)                 │      \u001b[38;5;34m40,960,512\u001b[0m │\n",
              "├──────────────────────────────────────┼─────────────────────────────┼─────────────────┤\n",
              "│ dropout_1 (\u001b[38;5;33mDropout\u001b[0m)                  │ (\u001b[38;5;45mNone\u001b[0m, \u001b[38;5;34m512\u001b[0m)                 │               \u001b[38;5;34m0\u001b[0m │\n",
              "├──────────────────────────────────────┼─────────────────────────────┼─────────────────┤\n",
              "│ dense_2 (\u001b[38;5;33mDense\u001b[0m)                      │ (\u001b[38;5;45mNone\u001b[0m, \u001b[38;5;34m1\u001b[0m)                   │             \u001b[38;5;34m513\u001b[0m │\n",
              "└──────────────────────────────────────┴─────────────────────────────┴─────────────────┘\n"
            ],
            "text/html": [
              "<pre style=\"white-space:pre;overflow-x:auto;line-height:normal;font-family:Menlo,'DejaVu Sans Mono',consolas,'Courier New',monospace\">┏━━━━━━━━━━━━━━━━━━━━━━━━━━━━━━━━━━━━━━┳━━━━━━━━━━━━━━━━━━━━━━━━━━━━━┳━━━━━━━━━━━━━━━━━┓\n",
              "┃<span style=\"font-weight: bold\"> Layer (type)                         </span>┃<span style=\"font-weight: bold\"> Output Shape                </span>┃<span style=\"font-weight: bold\">         Param # </span>┃\n",
              "┡━━━━━━━━━━━━━━━━━━━━━━━━━━━━━━━━━━━━━━╇━━━━━━━━━━━━━━━━━━━━━━━━━━━━━╇━━━━━━━━━━━━━━━━━┩\n",
              "│ conv2d_4 (<span style=\"color: #0087ff; text-decoration-color: #0087ff\">Conv2D</span>)                    │ (<span style=\"color: #00d7ff; text-decoration-color: #00d7ff\">None</span>, <span style=\"color: #00af00; text-decoration-color: #00af00\">200</span>, <span style=\"color: #00af00; text-decoration-color: #00af00\">200</span>, <span style=\"color: #00af00; text-decoration-color: #00af00\">32</span>)        │             <span style=\"color: #00af00; text-decoration-color: #00af00\">896</span> │\n",
              "├──────────────────────────────────────┼─────────────────────────────┼─────────────────┤\n",
              "│ max_pooling2d_3 (<span style=\"color: #0087ff; text-decoration-color: #0087ff\">MaxPooling2D</span>)       │ (<span style=\"color: #00d7ff; text-decoration-color: #00d7ff\">None</span>, <span style=\"color: #00af00; text-decoration-color: #00af00\">100</span>, <span style=\"color: #00af00; text-decoration-color: #00af00\">100</span>, <span style=\"color: #00af00; text-decoration-color: #00af00\">32</span>)        │               <span style=\"color: #00af00; text-decoration-color: #00af00\">0</span> │\n",
              "├──────────────────────────────────────┼─────────────────────────────┼─────────────────┤\n",
              "│ conv2d_5 (<span style=\"color: #0087ff; text-decoration-color: #0087ff\">Conv2D</span>)                    │ (<span style=\"color: #00d7ff; text-decoration-color: #00d7ff\">None</span>, <span style=\"color: #00af00; text-decoration-color: #00af00\">100</span>, <span style=\"color: #00af00; text-decoration-color: #00af00\">100</span>, <span style=\"color: #00af00; text-decoration-color: #00af00\">64</span>)        │          <span style=\"color: #00af00; text-decoration-color: #00af00\">18,496</span> │\n",
              "├──────────────────────────────────────┼─────────────────────────────┼─────────────────┤\n",
              "│ max_pooling2d_4 (<span style=\"color: #0087ff; text-decoration-color: #0087ff\">MaxPooling2D</span>)       │ (<span style=\"color: #00d7ff; text-decoration-color: #00d7ff\">None</span>, <span style=\"color: #00af00; text-decoration-color: #00af00\">50</span>, <span style=\"color: #00af00; text-decoration-color: #00af00\">50</span>, <span style=\"color: #00af00; text-decoration-color: #00af00\">64</span>)          │               <span style=\"color: #00af00; text-decoration-color: #00af00\">0</span> │\n",
              "├──────────────────────────────────────┼─────────────────────────────┼─────────────────┤\n",
              "│ conv2d_6 (<span style=\"color: #0087ff; text-decoration-color: #0087ff\">Conv2D</span>)                    │ (<span style=\"color: #00d7ff; text-decoration-color: #00d7ff\">None</span>, <span style=\"color: #00af00; text-decoration-color: #00af00\">50</span>, <span style=\"color: #00af00; text-decoration-color: #00af00\">50</span>, <span style=\"color: #00af00; text-decoration-color: #00af00\">128</span>)         │          <span style=\"color: #00af00; text-decoration-color: #00af00\">73,856</span> │\n",
              "├──────────────────────────────────────┼─────────────────────────────┼─────────────────┤\n",
              "│ max_pooling2d_5 (<span style=\"color: #0087ff; text-decoration-color: #0087ff\">MaxPooling2D</span>)       │ (<span style=\"color: #00d7ff; text-decoration-color: #00d7ff\">None</span>, <span style=\"color: #00af00; text-decoration-color: #00af00\">25</span>, <span style=\"color: #00af00; text-decoration-color: #00af00\">25</span>, <span style=\"color: #00af00; text-decoration-color: #00af00\">128</span>)         │               <span style=\"color: #00af00; text-decoration-color: #00af00\">0</span> │\n",
              "├──────────────────────────────────────┼─────────────────────────────┼─────────────────┤\n",
              "│ flatten_1 (<span style=\"color: #0087ff; text-decoration-color: #0087ff\">Flatten</span>)                  │ (<span style=\"color: #00d7ff; text-decoration-color: #00d7ff\">None</span>, <span style=\"color: #00af00; text-decoration-color: #00af00\">80000</span>)               │               <span style=\"color: #00af00; text-decoration-color: #00af00\">0</span> │\n",
              "├──────────────────────────────────────┼─────────────────────────────┼─────────────────┤\n",
              "│ dense_1 (<span style=\"color: #0087ff; text-decoration-color: #0087ff\">Dense</span>)                      │ (<span style=\"color: #00d7ff; text-decoration-color: #00d7ff\">None</span>, <span style=\"color: #00af00; text-decoration-color: #00af00\">512</span>)                 │      <span style=\"color: #00af00; text-decoration-color: #00af00\">40,960,512</span> │\n",
              "├──────────────────────────────────────┼─────────────────────────────┼─────────────────┤\n",
              "│ dropout_1 (<span style=\"color: #0087ff; text-decoration-color: #0087ff\">Dropout</span>)                  │ (<span style=\"color: #00d7ff; text-decoration-color: #00d7ff\">None</span>, <span style=\"color: #00af00; text-decoration-color: #00af00\">512</span>)                 │               <span style=\"color: #00af00; text-decoration-color: #00af00\">0</span> │\n",
              "├──────────────────────────────────────┼─────────────────────────────┼─────────────────┤\n",
              "│ dense_2 (<span style=\"color: #0087ff; text-decoration-color: #0087ff\">Dense</span>)                      │ (<span style=\"color: #00d7ff; text-decoration-color: #00d7ff\">None</span>, <span style=\"color: #00af00; text-decoration-color: #00af00\">1</span>)                   │             <span style=\"color: #00af00; text-decoration-color: #00af00\">513</span> │\n",
              "└──────────────────────────────────────┴─────────────────────────────┴─────────────────┘\n",
              "</pre>\n"
            ]
          },
          "metadata": {}
        },
        {
          "output_type": "display_data",
          "data": {
            "text/plain": [
              "\u001b[1m Total params: \u001b[0m\u001b[38;5;34m41,054,273\u001b[0m (156.61 MB)\n"
            ],
            "text/html": [
              "<pre style=\"white-space:pre;overflow-x:auto;line-height:normal;font-family:Menlo,'DejaVu Sans Mono',consolas,'Courier New',monospace\"><span style=\"font-weight: bold\"> Total params: </span><span style=\"color: #00af00; text-decoration-color: #00af00\">41,054,273</span> (156.61 MB)\n",
              "</pre>\n"
            ]
          },
          "metadata": {}
        },
        {
          "output_type": "display_data",
          "data": {
            "text/plain": [
              "\u001b[1m Trainable params: \u001b[0m\u001b[38;5;34m41,054,273\u001b[0m (156.61 MB)\n"
            ],
            "text/html": [
              "<pre style=\"white-space:pre;overflow-x:auto;line-height:normal;font-family:Menlo,'DejaVu Sans Mono',consolas,'Courier New',monospace\"><span style=\"font-weight: bold\"> Trainable params: </span><span style=\"color: #00af00; text-decoration-color: #00af00\">41,054,273</span> (156.61 MB)\n",
              "</pre>\n"
            ]
          },
          "metadata": {}
        },
        {
          "output_type": "display_data",
          "data": {
            "text/plain": [
              "\u001b[1m Non-trainable params: \u001b[0m\u001b[38;5;34m0\u001b[0m (0.00 B)\n"
            ],
            "text/html": [
              "<pre style=\"white-space:pre;overflow-x:auto;line-height:normal;font-family:Menlo,'DejaVu Sans Mono',consolas,'Courier New',monospace\"><span style=\"font-weight: bold\"> Non-trainable params: </span><span style=\"color: #00af00; text-decoration-color: #00af00\">0</span> (0.00 B)\n",
              "</pre>\n"
            ]
          },
          "metadata": {}
        }
      ]
    },
    {
      "cell_type": "code",
      "source": [
        "model.compile(loss='binary_crossentropy',optimizer='adam',metrics=['accuracy'])"
      ],
      "metadata": {
        "id": "RtEyT9aYvjZ2"
      },
      "execution_count": 23,
      "outputs": []
    },
    {
      "cell_type": "code",
      "source": [
        "history = model.fit(train_generator,epochs=10,validation_data=test_generator)"
      ],
      "metadata": {
        "colab": {
          "base_uri": "https://localhost:8080/"
        },
        "id": "Qgf1yePuvvUs",
        "outputId": "50163260-cd06-4646-89d8-a895742679e3"
      },
      "execution_count": 26,
      "outputs": [
        {
          "output_type": "stream",
          "name": "stdout",
          "text": [
            "Epoch 1/10\n",
            "\u001b[1m5/5\u001b[0m \u001b[32m━━━━━━━━━━━━━━━━━━━━\u001b[0m\u001b[37m\u001b[0m \u001b[1m31s\u001b[0m 6s/step - accuracy: 0.9884 - loss: 0.0453 - val_accuracy: 1.0000 - val_loss: 0.0039\n",
            "Epoch 2/10\n",
            "\u001b[1m5/5\u001b[0m \u001b[32m━━━━━━━━━━━━━━━━━━━━\u001b[0m\u001b[37m\u001b[0m \u001b[1m22s\u001b[0m 4s/step - accuracy: 0.9628 - loss: 0.0978 - val_accuracy: 1.0000 - val_loss: 0.0231\n",
            "Epoch 3/10\n",
            "\u001b[1m5/5\u001b[0m \u001b[32m━━━━━━━━━━━━━━━━━━━━\u001b[0m\u001b[37m\u001b[0m \u001b[1m22s\u001b[0m 4s/step - accuracy: 0.9724 - loss: 0.0734 - val_accuracy: 1.0000 - val_loss: 0.0229\n",
            "Epoch 4/10\n",
            "\u001b[1m5/5\u001b[0m \u001b[32m━━━━━━━━━━━━━━━━━━━━\u001b[0m\u001b[37m\u001b[0m \u001b[1m22s\u001b[0m 4s/step - accuracy: 0.9852 - loss: 0.0722 - val_accuracy: 0.9750 - val_loss: 0.0459\n",
            "Epoch 5/10\n",
            "\u001b[1m5/5\u001b[0m \u001b[32m━━━━━━━━━━━━━━━━━━━━\u001b[0m\u001b[37m\u001b[0m \u001b[1m21s\u001b[0m 4s/step - accuracy: 0.9865 - loss: 0.0744 - val_accuracy: 0.9750 - val_loss: 0.0618\n",
            "Epoch 6/10\n",
            "\u001b[1m5/5\u001b[0m \u001b[32m━━━━━━━━━━━━━━━━━━━━\u001b[0m\u001b[37m\u001b[0m \u001b[1m42s\u001b[0m 4s/step - accuracy: 0.9977 - loss: 0.0205 - val_accuracy: 0.9750 - val_loss: 0.0396\n",
            "Epoch 7/10\n",
            "\u001b[1m5/5\u001b[0m \u001b[32m━━━━━━━━━━━━━━━━━━━━\u001b[0m\u001b[37m\u001b[0m \u001b[1m21s\u001b[0m 4s/step - accuracy: 1.0000 - loss: 0.0119 - val_accuracy: 1.0000 - val_loss: 0.0131\n",
            "Epoch 8/10\n",
            "\u001b[1m5/5\u001b[0m \u001b[32m━━━━━━━━━━━━━━━━━━━━\u001b[0m\u001b[37m\u001b[0m \u001b[1m22s\u001b[0m 4s/step - accuracy: 1.0000 - loss: 0.0103 - val_accuracy: 1.0000 - val_loss: 0.0283\n",
            "Epoch 9/10\n",
            "\u001b[1m5/5\u001b[0m \u001b[32m━━━━━━━━━━━━━━━━━━━━\u001b[0m\u001b[37m\u001b[0m \u001b[1m40s\u001b[0m 4s/step - accuracy: 1.0000 - loss: 0.0067 - val_accuracy: 1.0000 - val_loss: 0.0123\n",
            "Epoch 10/10\n",
            "\u001b[1m5/5\u001b[0m \u001b[32m━━━━━━━━━━━━━━━━━━━━\u001b[0m\u001b[37m\u001b[0m \u001b[1m23s\u001b[0m 4s/step - accuracy: 1.0000 - loss: 0.0058 - val_accuracy: 1.0000 - val_loss: 0.0064\n"
          ]
        }
      ]
    },
    {
      "cell_type": "code",
      "source": [
        "import matplotlib.pyplot as plt"
      ],
      "metadata": {
        "id": "7sFckQqWv2Yw"
      },
      "execution_count": 25,
      "outputs": []
    },
    {
      "cell_type": "code",
      "source": [
        "plt.plot(history.history['loss'],color='blue')\n",
        "plt.plot(history.history['val_loss'],color='red')"
      ],
      "metadata": {
        "colab": {
          "base_uri": "https://localhost:8080/",
          "height": 448
        },
        "id": "GxfFxB0Ww8fH",
        "outputId": "529ed990-8cb4-4125-ca95-0b774df2b3cb"
      },
      "execution_count": 27,
      "outputs": [
        {
          "output_type": "execute_result",
          "data": {
            "text/plain": [
              "[<matplotlib.lines.Line2D at 0x79d2185b90d0>]"
            ]
          },
          "metadata": {},
          "execution_count": 27
        },
        {
          "output_type": "display_data",
          "data": {
            "text/plain": [
              "<Figure size 640x480 with 1 Axes>"
            ],
            "image/png": "[encoded data removed]"
          },
          "metadata": {}
        }
      ]
    },
    {
      "cell_type": "code",
      "source": [
        "plt.plot(history.history['accuracy'],color='blue')\n",
        "plt.plot(history.history['val_accuracy'],color='red')"
      ],
      "metadata": {
        "colab": {
          "base_uri": "https://localhost:8080/",
          "height": 448
        },
        "id": "g6Po7TFBxIpj",
        "outputId": "b845c9fe-99d6-48e3-dd9d-7d17cf693cb6"
      },
      "execution_count": 28,
      "outputs": [
        {
          "output_type": "execute_result",
          "data": {
            "text/plain": [
              "[<matplotlib.lines.Line2D at 0x79d218636a90>]"
            ]
          },
          "metadata": {},
          "execution_count": 28
        },
        {
          "output_type": "display_data",
          "data": {
            "text/plain": [
              "<Figure size 640x480 with 1 Axes>"
            ],
            "image/png": "[encoded data removed]"
          },
          "metadata": {}
        }
      ]
    },
    {
      "cell_type": "code",
      "source": [
        "y_pred = model.predict(test_generator)"
      ],
      "metadata": {
        "colab": {
          "base_uri": "https://localhost:8080/"
        },
        "id": "BpKH8VV3yPYn",
        "outputId": "2ff107ff-8e91-40f5-920f-fe04cef1a6dc"
      },
      "execution_count": 29,
      "outputs": [
        {
          "output_type": "stream",
          "name": "stdout",
          "text": [
            "\u001b[1m2/2\u001b[0m \u001b[32m━━━━━━━━━━━━━━━━━━━━\u001b[0m\u001b[37m\u001b[0m \u001b[1m2s\u001b[0m 263ms/step\n"
          ]
        }
      ]
    },
    {
      "cell_type": "code",
      "source": [
        "y_pred"
      ],
      "metadata": {
        "colab": {
          "base_uri": "https://localhost:8080/"
        },
        "id": "R2O_B3-FyZBs",
        "outputId": "ec01d820-664a-4afe-e052-deed062d754c"
      },
      "execution_count": 30,
      "outputs": [
        {
          "output_type": "execute_result",
          "data": {
            "text/plain": [
              "array([[1.00000000e+00],\n",
              "       [8.46693729e-05],\n",
              "       [9.99652922e-01],\n",
              "       [1.00000000e+00],\n",
              "       [9.99445260e-01],\n",
              "       [9.99975324e-01],\n",
              "       [2.12393606e-05],\n",
              "       [9.99947667e-01],\n",
              "       [9.99999762e-01],\n",
              "       [2.09028798e-07],\n",
              "       [4.35039583e-05],\n",
              "       [1.50477514e-03],\n",
              "       [8.98793769e-06],\n",
              "       [9.99947011e-01],\n",
              "       [5.83591114e-04],\n",
              "       [9.98638749e-01],\n",
              "       [8.84801224e-02],\n",
              "       [1.06286996e-06],\n",
              "       [1.00000000e+00],\n",
              "       [5.89886440e-06],\n",
              "       [9.99996841e-01],\n",
              "       [1.41533553e-06],\n",
              "       [1.00000000e+00],\n",
              "       [8.44595070e-06],\n",
              "       [1.00000000e+00],\n",
              "       [9.99988735e-01],\n",
              "       [1.06565075e-07],\n",
              "       [4.56183898e-07],\n",
              "       [9.99957860e-01],\n",
              "       [3.77637552e-05],\n",
              "       [9.99892354e-01],\n",
              "       [9.99900222e-01],\n",
              "       [9.99791682e-01],\n",
              "       [2.66439485e-04],\n",
              "       [1.00000000e+00],\n",
              "       [4.12641498e-07],\n",
              "       [2.26496395e-05],\n",
              "       [1.00000000e+00],\n",
              "       [1.44719452e-01],\n",
              "       [4.55279951e-06]], dtype=float32)"
            ]
          },
          "metadata": {},
          "execution_count": 30
        }
      ]
    },
    {
      "cell_type": "code",
      "source": [
        "import numpy as np"
      ],
      "metadata": {
        "id": "gbsqYfE0y2Ih"
      },
      "execution_count": 32,
      "outputs": []
    },
    {
      "cell_type": "code",
      "source": [
        "y_pred_classes = np.round(y_pred)"
      ],
      "metadata": {
        "id": "JUbVTJEwynhj"
      },
      "execution_count": 33,
      "outputs": []
    },
    {
      "cell_type": "code",
      "source": [
        "y_pred_classes"
      ],
      "metadata": {
        "colab": {
          "base_uri": "https://localhost:8080/"
        },
        "id": "-IkRTG7ny1Ju",
        "outputId": "fa5501f9-7a80-4e9a-9772-ee199daf1386"
      },
      "execution_count": 34,
      "outputs": [
        {
          "output_type": "execute_result",
          "data": {
            "text/plain": [
              "array([[1.],\n",
              "       [0.],\n",
              "       [1.],\n",
              "       [1.],\n",
              "       [1.],\n",
              "       [1.],\n",
              "       [0.],\n",
              "       [1.],\n",
              "       [1.],\n",
              "       [0.],\n",
              "       [0.],\n",
              "       [0.],\n",
              "       [0.],\n",
              "       [1.],\n",
              "       [0.],\n",
              "       [1.],\n",
              "       [0.],\n",
              "       [0.],\n",
              "       [1.],\n",
              "       [0.],\n",
              "       [1.],\n",
              "       [0.],\n",
              "       [1.],\n",
              "       [0.],\n",
              "       [1.],\n",
              "       [1.],\n",
              "       [0.],\n",
              "       [0.],\n",
              "       [1.],\n",
              "       [0.],\n",
              "       [1.],\n",
              "       [1.],\n",
              "       [1.],\n",
              "       [0.],\n",
              "       [1.],\n",
              "       [0.],\n",
              "       [0.],\n",
              "       [1.],\n",
              "       [0.],\n",
              "       [0.]], dtype=float32)"
            ]
          },
          "metadata": {},
          "execution_count": 34
        }
      ]
    },
    {
      "cell_type": "code",
      "source": [],
      "metadata": {
        "id": "Bd-q9Cr6y4Tl"
      },
      "execution_count": null,
      "outputs": []
    }
  ]
}